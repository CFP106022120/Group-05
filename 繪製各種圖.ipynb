{
 "cells": [
  {
   "cell_type": "code",
   "execution_count": 50,
   "metadata": {
    "scrolled": true
   },
   "outputs": [
    {
     "data": {
      "application/vnd.jupyter.widget-view+json": {
       "model_id": "ab6cc346c75e4820882b036a5871853e",
       "version_major": 2,
       "version_minor": 0
      },
      "text/html": [
       "<p>Failed to display Jupyter Widget of type <code>interactive</code>.</p>\n",
       "<p>\n",
       "  If you're reading this message in the Jupyter Notebook or JupyterLab Notebook, it may mean\n",
       "  that the widgets JavaScript is still loading. If this message persists, it\n",
       "  likely means that the widgets JavaScript library is either not installed or\n",
       "  not enabled. See the <a href=\"https://ipywidgets.readthedocs.io/en/stable/user_install.html\">Jupyter\n",
       "  Widgets Documentation</a> for setup instructions.\n",
       "</p>\n",
       "<p>\n",
       "  If you're reading this message in another frontend (for example, a static\n",
       "  rendering on GitHub or <a href=\"https://nbviewer.jupyter.org/\">NBViewer</a>),\n",
       "  it may mean that your frontend doesn't currently support widgets.\n",
       "</p>\n"
      ],
      "text/plain": [
       "interactive(children=(FloatSlider(value=150.5, description='L1', max=300.0, min=1.0), FloatSlider(value=150.5, description='m1', max=300.0, min=1.0), FloatSlider(value=150.5, description='L2', max=300.0, min=1.0), FloatSlider(value=150.5, description='m2', max=300.0, min=1.0), Output()), _dom_classes=('widget-interact',))"
      ]
     },
     "metadata": {},
     "output_type": "display_data"
    },
    {
     "data": {
      "text/plain": [
       "<function __main__.draw>"
      ]
     },
     "execution_count": 50,
     "metadata": {},
     "output_type": "execute_result"
    }
   ],
   "source": [
    "from sympy import Derivative as D\n",
    "from math import sin,cos,pi\n",
    "import numpy as np\n",
    "from scipy.integrate import odeint,ode\n",
    "import matplotlib.pyplot as plt\n",
    "from ipywidgets import interact\n",
    "\n",
    "g=9.8\n",
    "\n",
    "m1=0.5\n",
    "m2=0.5\n",
    "L1=2\n",
    "L2=2\n",
    "\n",
    "def dx(x,t):\n",
    "    th1,th2,v1,v2 = x[0],x[1],x[2],x[3]\n",
    "    dth1 = v1\n",
    "    dth2 = v2\n",
    "    dv1 = (m2*g*sin(th2)*cos(th1-th2)-m2*sin(th1-th2)*(L1*v1*v1*cos(th1-th2)+L2*v2*v2)-(m1+m2)*g*sin(th1))/(L1*(m1+m2*sin(th1-th2)*sin(th1-th2)))\n",
    "    dv2 = ((m1+m2)*(L1*v1*v1*sin(th1-th2)-g*sin(th2)+g*sin(th1)*cos(th1-th2))+m2*L2*v2*v2*sin(th1-th2)*cos(th1-th2))/(L1*(m1+m2*sin(th1-th2)*sin(th1-th2)))\n",
    "    \n",
    "    return[dth1,dth2,dv1,dv2]\n",
    "    \n",
    "def draw(L1,m1,L2,m2):\n",
    "    x0=[pi/4,pi/2,0,0]       #初始狀態\n",
    "    t=np.linspace(0,30,300)  #設定時間 0~30s\n",
    "    x=odeint(dx,x0,t)        #解微分方程\n",
    "    \n",
    "#角度-時間圖\n",
    "    fig,axes=plt.subplots(figsize=(12,4))\n",
    "    L1,=axes.plot(t,x[:,0],'r')\n",
    "    L2,=axes.plot(t,x[:,1],'b')\n",
    "    axes.set_title(\"theta-time\")\n",
    "    axes.legend(handles=[L1,L2],labels=['time','theta'],loc = 'upper right',shadow=True)\n",
    "    plt.xlabel('time')\n",
    "    plt.ylabel('theta')    \n",
    "    \n",
    "#角加速度-時間圖\n",
    "    fig,axes=plt.subplots(figsize=(12,4))\n",
    "    L3,=axes.plot(t,x[:,2],'r')\n",
    "    L4,=axes.plot(t,x[:,3],'b')\n",
    "    axes.set_title(\"Angular velocity-time\")\n",
    "    axes.legend(handles=[L3,L4],labels=['time','Angular velocity'],loc = 'upper right',shadow=True)\n",
    "    plt.xlabel('time')\n",
    "    plt.ylabel('Angular velocity')\n",
    "    \n",
    "#角速度-角度圖(相位圖)\n",
    "    fig,axes=plt.subplots(figsize=(12,4))\n",
    "    L5,=axes.plot(x[:,0],x[:,2],'r')\n",
    "    L6,=axes.plot(x[:,1],x[:,3],'b')\n",
    "    axes.set_title(\"Angular velocity-theta\")\n",
    "    axes.legend(handles=[L5,L6],labels=['theta','Angular velocity'],loc = 'upper right',shadow=True)\n",
    "    plt.xlabel('theta')\n",
    "    plt.ylabel('Angular velocity')\n",
    "    \n",
    "#角度1角度2圖\n",
    "    fig,axes=plt.subplots(figsize=(12,4))\n",
    "    L7,=axes.plot(x[:,0],x[:,1],'g')\n",
    "    axes.set_title(\"theta1-theta2\")\n",
    "    plt.xlabel('theta2')\n",
    "    plt.ylabel('theta1')\n",
    "    \n",
    "interact(draw,L1=(1.,300.),m1=(1.,300.),L2=(1.,300.),m2=(1.,300.))\n",
    "\n",
    "\n"
   ]
  },
  {
   "cell_type": "code",
   "execution_count": null,
   "metadata": {},
   "outputs": [],
   "source": []
  }
 ],
 "metadata": {
  "kernelspec": {
   "display_name": "Python 3",
   "language": "python",
   "name": "python3"
  },
  "language_info": {
   "codemirror_mode": {
    "name": "ipython",
    "version": 3
   },
   "file_extension": ".py",
   "mimetype": "text/x-python",
   "name": "python",
   "nbconvert_exporter": "python",
   "pygments_lexer": "ipython3",
   "version": "3.6.4"
  }
 },
 "nbformat": 4,
 "nbformat_minor": 2
}
